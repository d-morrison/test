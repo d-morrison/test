{
  "cells": [
    {
      "cell_type": "raw",
      "metadata": {},
      "source": [
        "---\n",
        "title: \"tikz\"\n",
        "format: html\n",
        "editor: visual\n",
        "---"
      ],
      "id": "952303d0"
    },
    {
      "cell_type": "markdown",
      "metadata": {},
      "source": [
        "```{tikz}\n",
        "\\usetikzlibrary{positioning}\n",
        "\\usetikzlibrary{shapes.geometric}\n",
        "\\begin{tikzpicture}[{every node/.append style}=draw]\n",
        " \\draw (0,0) circle (1cm);\n",
        " \\draw (0,0) circle (2cm);\n",
        "\\end{tikzpicture}\n",
        "```"
      ],
      "id": "000c2c39"
    }
  ],
  "metadata": {
    "kernelspec": {
      "name": "python3",
      "language": "python",
      "display_name": "Python 3 (ipykernel)"
    }
  },
  "nbformat": 4,
  "nbformat_minor": 5
}